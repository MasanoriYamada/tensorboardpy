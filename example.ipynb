{
 "cells": [
  {
   "cell_type": "markdown",
   "id": "excessive-distributor",
   "metadata": {},
   "source": [
    "# prepare tensorboard log\n",
    "\n",
    "generate code: gen_log.py\n",
    "```gen_log.py\n",
    "from torch.utils.tensorboard import SummaryWriter\n",
    "\n",
    "\n",
    "for i in range(5):\n",
    "    save_metrics = {'train/acc': None, 'train/loss': None}\n",
    "    writer = SummaryWriter(f'runs/{i}')\n",
    "    for step in range(50):\n",
    "        writer.add_scalar('train/acc', 10*i+step, step)\n",
    "        writer.add_scalar('train/loss', 10*i - step, step)\n",
    "    writer.add_hparams({'lr': 0.1*i, 'bsize': i, 'gpu': True, 'opt': 'adam'}, save_metrics)\n",
    "writer.close()\n",
    "```\n",
    "output file structure\n",
    "\n",
    "```\n",
    "runs\n",
    "├── 0\n",
    "│   └── events.out.tfevents.xxx.0\n",
    "├── 1\n",
    "│   └── events.out.tfevents..xxx.1\n",
    "├── 2\n",
    "│   └── events.out.tfevents.xxx.2\n",
    "├── 3\n",
    "│   └── events.out.tfevents.xxx.3\n",
    "└── 4\n",
    "    └── events.out.tfevents.xxx.4\n",
    "```"
   ]
  },
  {
   "cell_type": "code",
   "execution_count": 1,
   "id": "essential-tyler",
   "metadata": {
    "ExecuteTime": {
     "end_time": "2021-08-22T02:02:38.271973Z",
     "start_time": "2021-08-22T02:02:38.269858Z"
    }
   },
   "outputs": [],
   "source": [
    "#!rm -rf runs # remove log\n",
    "#!python gen_log.py  # generate log"
   ]
  },
  {
   "cell_type": "code",
   "execution_count": 2,
   "id": "metric-layer",
   "metadata": {
    "ExecuteTime": {
     "end_time": "2021-08-22T02:02:43.770953Z",
     "start_time": "2021-08-22T02:02:41.680634Z"
    },
    "scrolled": false
   },
   "outputs": [
    {
     "data": {
      "text/html": [
       "\n",
       "      <iframe id=\"tensorboard-frame-c111d02baba666ed\" width=\"100%\" height=\"800\" frameborder=\"0\">\n",
       "      </iframe>\n",
       "      <script>\n",
       "        (function() {\n",
       "          const frame = document.getElementById(\"tensorboard-frame-c111d02baba666ed\");\n",
       "          const url = new URL(\"/\", window.location);\n",
       "          const port = 6009;\n",
       "          if (port) {\n",
       "            url.port = port;\n",
       "          }\n",
       "          frame.src = url;\n",
       "        })();\n",
       "      </script>\n",
       "    "
      ],
      "text/plain": [
       "<IPython.core.display.HTML object>"
      ]
     },
     "metadata": {},
     "output_type": "display_data"
    }
   ],
   "source": [
    "%load_ext tensorboard\n",
    "%tensorboard  --logdir runs"
   ]
  },
  {
   "cell_type": "markdown",
   "id": "typical-bahamas",
   "metadata": {},
   "source": [
    "# Convert tensorboard log to pandas"
   ]
  },
  {
   "cell_type": "code",
   "execution_count": 3,
   "id": "hazardous-bhutan",
   "metadata": {
    "ExecuteTime": {
     "end_time": "2021-08-22T02:02:51.813530Z",
     "start_time": "2021-08-22T02:02:51.259452Z"
    }
   },
   "outputs": [],
   "source": [
    "from tensorboardpy import logdir\n",
    "from tensorboardpy import select_steps"
   ]
  },
  {
   "cell_type": "code",
   "execution_count": 4,
   "id": "seventh-quantity",
   "metadata": {
    "ExecuteTime": {
     "end_time": "2021-08-22T02:02:56.216276Z",
     "start_time": "2021-08-22T02:02:52.484093Z"
    },
    "scrolled": true
   },
   "outputs": [
    {
     "name": "stdout",
     "output_type": "stream",
     "text": [
      "events files loading...\n",
      "[   'runs/0/events.out.tfevents.1629596494.yamada.local.43744.0',\n",
      "    'runs/1/events.out.tfevents.1629596494.yamada.local.43744.1',\n",
      "    'runs/4/events.out.tfevents.1629596494.yamada.local.43744.4',\n",
      "    'runs/3/events.out.tfevents.1629596494.yamada.local.43744.3',\n",
      "    'runs/2/events.out.tfevents.1629596494.yamada.local.43744.2']\n"
     ]
    }
   ],
   "source": [
    "df = logdir('runs', ignore_path=True)"
   ]
  },
  {
   "cell_type": "code",
   "execution_count": 5,
   "id": "statistical-circumstances",
   "metadata": {
    "ExecuteTime": {
     "end_time": "2021-08-22T02:02:56.237281Z",
     "start_time": "2021-08-22T02:02:56.218050Z"
    },
    "scrolled": false
   },
   "outputs": [
    {
     "data": {
      "text/html": [
       "<div>\n",
       "<style scoped>\n",
       "    .dataframe tbody tr th:only-of-type {\n",
       "        vertical-align: middle;\n",
       "    }\n",
       "\n",
       "    .dataframe tbody tr th {\n",
       "        vertical-align: top;\n",
       "    }\n",
       "\n",
       "    .dataframe thead th {\n",
       "        text-align: right;\n",
       "    }\n",
       "</style>\n",
       "<table border=\"1\" class=\"dataframe\">\n",
       "  <thead>\n",
       "    <tr style=\"text-align: right;\">\n",
       "      <th></th>\n",
       "      <th>metric</th>\n",
       "      <th>value</th>\n",
       "      <th>step</th>\n",
       "      <th>bsize</th>\n",
       "      <th>opt</th>\n",
       "      <th>gpu</th>\n",
       "      <th>lr</th>\n",
       "    </tr>\n",
       "  </thead>\n",
       "  <tbody>\n",
       "    <tr>\n",
       "      <th>0</th>\n",
       "      <td>train/acc</td>\n",
       "      <td>0.0</td>\n",
       "      <td>0.0</td>\n",
       "      <td>0.0</td>\n",
       "      <td>adam</td>\n",
       "      <td>1.0</td>\n",
       "      <td>0.0</td>\n",
       "    </tr>\n",
       "    <tr>\n",
       "      <th>1</th>\n",
       "      <td>train/acc</td>\n",
       "      <td>1.0</td>\n",
       "      <td>1.0</td>\n",
       "      <td>0.0</td>\n",
       "      <td>adam</td>\n",
       "      <td>1.0</td>\n",
       "      <td>0.0</td>\n",
       "    </tr>\n",
       "    <tr>\n",
       "      <th>2</th>\n",
       "      <td>train/acc</td>\n",
       "      <td>2.0</td>\n",
       "      <td>2.0</td>\n",
       "      <td>0.0</td>\n",
       "      <td>adam</td>\n",
       "      <td>1.0</td>\n",
       "      <td>0.0</td>\n",
       "    </tr>\n",
       "    <tr>\n",
       "      <th>3</th>\n",
       "      <td>train/acc</td>\n",
       "      <td>3.0</td>\n",
       "      <td>3.0</td>\n",
       "      <td>0.0</td>\n",
       "      <td>adam</td>\n",
       "      <td>1.0</td>\n",
       "      <td>0.0</td>\n",
       "    </tr>\n",
       "    <tr>\n",
       "      <th>4</th>\n",
       "      <td>train/acc</td>\n",
       "      <td>4.0</td>\n",
       "      <td>4.0</td>\n",
       "      <td>0.0</td>\n",
       "      <td>adam</td>\n",
       "      <td>1.0</td>\n",
       "      <td>0.0</td>\n",
       "    </tr>\n",
       "    <tr>\n",
       "      <th>...</th>\n",
       "      <td>...</td>\n",
       "      <td>...</td>\n",
       "      <td>...</td>\n",
       "      <td>...</td>\n",
       "      <td>...</td>\n",
       "      <td>...</td>\n",
       "      <td>...</td>\n",
       "    </tr>\n",
       "    <tr>\n",
       "      <th>495</th>\n",
       "      <td>train/loss</td>\n",
       "      <td>-25.0</td>\n",
       "      <td>45.0</td>\n",
       "      <td>2.0</td>\n",
       "      <td>adam</td>\n",
       "      <td>1.0</td>\n",
       "      <td>0.2</td>\n",
       "    </tr>\n",
       "    <tr>\n",
       "      <th>496</th>\n",
       "      <td>train/loss</td>\n",
       "      <td>-26.0</td>\n",
       "      <td>46.0</td>\n",
       "      <td>2.0</td>\n",
       "      <td>adam</td>\n",
       "      <td>1.0</td>\n",
       "      <td>0.2</td>\n",
       "    </tr>\n",
       "    <tr>\n",
       "      <th>497</th>\n",
       "      <td>train/loss</td>\n",
       "      <td>-27.0</td>\n",
       "      <td>47.0</td>\n",
       "      <td>2.0</td>\n",
       "      <td>adam</td>\n",
       "      <td>1.0</td>\n",
       "      <td>0.2</td>\n",
       "    </tr>\n",
       "    <tr>\n",
       "      <th>498</th>\n",
       "      <td>train/loss</td>\n",
       "      <td>-28.0</td>\n",
       "      <td>48.0</td>\n",
       "      <td>2.0</td>\n",
       "      <td>adam</td>\n",
       "      <td>1.0</td>\n",
       "      <td>0.2</td>\n",
       "    </tr>\n",
       "    <tr>\n",
       "      <th>499</th>\n",
       "      <td>train/loss</td>\n",
       "      <td>-29.0</td>\n",
       "      <td>49.0</td>\n",
       "      <td>2.0</td>\n",
       "      <td>adam</td>\n",
       "      <td>1.0</td>\n",
       "      <td>0.2</td>\n",
       "    </tr>\n",
       "  </tbody>\n",
       "</table>\n",
       "<p>500 rows × 7 columns</p>\n",
       "</div>"
      ],
      "text/plain": [
       "         metric  value  step  bsize   opt  gpu   lr\n",
       "0     train/acc    0.0   0.0    0.0  adam  1.0  0.0\n",
       "1     train/acc    1.0   1.0    0.0  adam  1.0  0.0\n",
       "2     train/acc    2.0   2.0    0.0  adam  1.0  0.0\n",
       "3     train/acc    3.0   3.0    0.0  adam  1.0  0.0\n",
       "4     train/acc    4.0   4.0    0.0  adam  1.0  0.0\n",
       "..          ...    ...   ...    ...   ...  ...  ...\n",
       "495  train/loss  -25.0  45.0    2.0  adam  1.0  0.2\n",
       "496  train/loss  -26.0  46.0    2.0  adam  1.0  0.2\n",
       "497  train/loss  -27.0  47.0    2.0  adam  1.0  0.2\n",
       "498  train/loss  -28.0  48.0    2.0  adam  1.0  0.2\n",
       "499  train/loss  -29.0  49.0    2.0  adam  1.0  0.2\n",
       "\n",
       "[500 rows x 7 columns]"
      ]
     },
     "execution_count": 5,
     "metadata": {},
     "output_type": "execute_result"
    }
   ],
   "source": [
    "df"
   ]
  },
  {
   "cell_type": "markdown",
   "id": "compatible-burton",
   "metadata": {},
   "source": [
    "# Useful statistical operations for writing papers"
   ]
  },
  {
   "cell_type": "code",
   "execution_count": 6,
   "id": "wrong-field",
   "metadata": {
    "ExecuteTime": {
     "end_time": "2021-08-22T02:02:58.102244Z",
     "start_time": "2021-08-22T02:02:58.032634Z"
    }
   },
   "outputs": [
    {
     "data": {
      "text/html": [
       "<div>\n",
       "<style scoped>\n",
       "    .dataframe tbody tr th:only-of-type {\n",
       "        vertical-align: middle;\n",
       "    }\n",
       "\n",
       "    .dataframe tbody tr th {\n",
       "        vertical-align: top;\n",
       "    }\n",
       "\n",
       "    .dataframe thead th {\n",
       "        text-align: right;\n",
       "    }\n",
       "</style>\n",
       "<table border=\"1\" class=\"dataframe\">\n",
       "  <thead>\n",
       "    <tr style=\"text-align: right;\">\n",
       "      <th></th>\n",
       "      <th>opt</th>\n",
       "      <th>lr</th>\n",
       "      <th>gpu</th>\n",
       "      <th>step</th>\n",
       "      <th>bsize</th>\n",
       "      <th>train/acc</th>\n",
       "      <th>train/loss</th>\n",
       "    </tr>\n",
       "  </thead>\n",
       "  <tbody>\n",
       "    <tr>\n",
       "      <th>0</th>\n",
       "      <td>adam</td>\n",
       "      <td>0.0</td>\n",
       "      <td>1.0</td>\n",
       "      <td>49.0</td>\n",
       "      <td>0.0</td>\n",
       "      <td>49.0</td>\n",
       "      <td>-49.0</td>\n",
       "    </tr>\n",
       "    <tr>\n",
       "      <th>1</th>\n",
       "      <td>adam</td>\n",
       "      <td>0.1</td>\n",
       "      <td>1.0</td>\n",
       "      <td>49.0</td>\n",
       "      <td>1.0</td>\n",
       "      <td>59.0</td>\n",
       "      <td>-39.0</td>\n",
       "    </tr>\n",
       "    <tr>\n",
       "      <th>2</th>\n",
       "      <td>adam</td>\n",
       "      <td>0.2</td>\n",
       "      <td>1.0</td>\n",
       "      <td>49.0</td>\n",
       "      <td>2.0</td>\n",
       "      <td>69.0</td>\n",
       "      <td>-29.0</td>\n",
       "    </tr>\n",
       "    <tr>\n",
       "      <th>3</th>\n",
       "      <td>adam</td>\n",
       "      <td>0.3</td>\n",
       "      <td>1.0</td>\n",
       "      <td>49.0</td>\n",
       "      <td>3.0</td>\n",
       "      <td>79.0</td>\n",
       "      <td>-19.0</td>\n",
       "    </tr>\n",
       "    <tr>\n",
       "      <th>4</th>\n",
       "      <td>adam</td>\n",
       "      <td>0.4</td>\n",
       "      <td>1.0</td>\n",
       "      <td>49.0</td>\n",
       "      <td>4.0</td>\n",
       "      <td>89.0</td>\n",
       "      <td>-9.0</td>\n",
       "    </tr>\n",
       "  </tbody>\n",
       "</table>\n",
       "</div>"
      ],
      "text/plain": [
       "    opt   lr  gpu  step  bsize  train/acc  train/loss\n",
       "0  adam  0.0  1.0  49.0    0.0       49.0       -49.0\n",
       "1  adam  0.1  1.0  49.0    1.0       59.0       -39.0\n",
       "2  adam  0.2  1.0  49.0    2.0       69.0       -29.0\n",
       "3  adam  0.3  1.0  49.0    3.0       79.0       -19.0\n",
       "4  adam  0.4  1.0  49.0    4.0       89.0        -9.0"
      ]
     },
     "execution_count": 6,
     "metadata": {},
     "output_type": "execute_result"
    }
   ],
   "source": [
    "# shrink the steps according to the rules\n",
    "ret_df = select_steps(df, metric='train/acc', rule='max')\n",
    "ret_df"
   ]
  },
  {
   "cell_type": "code",
   "execution_count": null,
   "id": "integrated-hundred",
   "metadata": {},
   "outputs": [],
   "source": []
  }
 ],
 "metadata": {
  "hide_input": false,
  "kernelspec": {
   "display_name": "Python 3",
   "language": "python",
   "name": "python3"
  },
  "language_info": {
   "codemirror_mode": {
    "name": "ipython",
    "version": 3
   },
   "file_extension": ".py",
   "mimetype": "text/x-python",
   "name": "python",
   "nbconvert_exporter": "python",
   "pygments_lexer": "ipython3",
   "version": "3.9.0"
  },
  "toc": {
   "base_numbering": 1,
   "nav_menu": {},
   "number_sections": true,
   "sideBar": true,
   "skip_h1_title": false,
   "title_cell": "Table of Contents",
   "title_sidebar": "Contents",
   "toc_cell": false,
   "toc_position": {},
   "toc_section_display": true,
   "toc_window_display": false
  }
 },
 "nbformat": 4,
 "nbformat_minor": 5
}
